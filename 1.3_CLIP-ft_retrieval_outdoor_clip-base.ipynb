{
 "cells": [
  {
   "cell_type": "code",
   "execution_count": 92,
   "id": "88ab125f-cfea-418c-a5f1-74075b14290f",
   "metadata": {
    "tags": []
   },
   "outputs": [
    {
     "data": {
      "text/plain": "67"
     },
     "execution_count": 92,
     "metadata": {},
     "output_type": "execute_result"
    }
   ],
   "source": [
    "prompts = \"\"\"\n",
    "domes\n",
    "windows\n",
    "portals\n",
    "spires\n",
    "towers\n",
    "minarets\n",
    "portal\n",
    "window\n",
    "statue\n",
    "tower\n",
    "buttress\n",
    "gargoyle\n",
    "gate\n",
    "relief\n",
    "sculpture\n",
    "Tympanum\n",
    "Bell\n",
    "transept\n",
    "spire\n",
    "atrium\n",
    "dome\n",
    "door\n",
    "pediment\n",
    "pillars\n",
    "poles\n",
    "colonnade\n",
    "rose window\n",
    "lancets\n",
    "tympanum\n",
    "jambfigures\n",
    "minaret\n",
    "arches\n",
    "stair step crenellation\n",
    "shady arcades\n",
    "iwan\n",
    "muqarnas\n",
    "mihrab\n",
    "jali\n",
    "chapel\n",
    "altar\n",
    "organ\n",
    "nave\n",
    "choir\n",
    "vault\n",
    "chancel\n",
    "ambulatory\n",
    "Aisle\n",
    "Ceiling\n",
    "Painting\n",
    "Triforium\n",
    "apse\n",
    "pulpit\n",
    "chapels\n",
    "arches\n",
    "abside\n",
    "stained glass windows\n",
    "arches\n",
    "roundels\n",
    "minbar\n",
    "chandelier\n",
    "Spire\n",
    "Atrium\n",
    "Apse\n",
    "Chevette\n",
    "Pulpit\n",
    "Dome\n",
    "door\n",
    "\"\"\".strip().splitlines()\n",
    "# prompts = [f\"a picture of a cathedral's {x}\" for x in prompts]\n",
    "prompts = [f\"{x}\" for x in prompts]\n",
    "len(prompts)"
   ]
  },
  {
   "cell_type": "code",
   "execution_count": 93,
   "outputs": [
    {
     "data": {
      "text/plain": "['domes',\n 'windows',\n 'portals',\n 'spires',\n 'towers',\n 'minarets',\n 'portal',\n 'window',\n 'statue',\n 'tower',\n 'buttress',\n 'gargoyle',\n 'gate',\n 'relief',\n 'sculpture',\n 'Tympanum',\n 'Bell',\n 'transept',\n 'spire',\n 'atrium',\n 'dome',\n 'door',\n 'pediment',\n 'pillars',\n 'poles',\n 'colonnade',\n 'rose window',\n 'lancets',\n 'tympanum',\n 'jambfigures',\n 'minaret',\n 'arches',\n 'stair step crenellation',\n 'shady arcades',\n 'iwan',\n 'muqarnas',\n 'mihrab',\n 'jali',\n 'chapel',\n 'altar',\n 'organ',\n 'nave',\n 'choir',\n 'vault',\n 'chancel',\n 'ambulatory',\n 'Aisle',\n 'Ceiling',\n 'Painting',\n 'Triforium',\n 'apse',\n 'pulpit',\n 'chapels',\n 'abside',\n 'stained glass windows',\n 'roundels',\n 'minbar',\n 'chandelier',\n 'Spire',\n 'Atrium',\n 'Apse',\n 'Chevette',\n 'Pulpit',\n 'Dome']"
     },
     "execution_count": 93,
     "metadata": {},
     "output_type": "execute_result"
    }
   ],
   "source": [
    "prompts = list(dict.fromkeys(prompts))\n",
    "prompts"
   ],
   "metadata": {
    "collapsed": false
   }
  },
  {
   "cell_type": "code",
   "execution_count": 94,
   "outputs": [
    {
     "data": {
      "text/plain": "64"
     },
     "execution_count": 94,
     "metadata": {},
     "output_type": "execute_result"
    }
   ],
   "source": [
    "len(prompts)\n"
   ],
   "metadata": {
    "collapsed": false
   }
  },
  {
   "cell_type": "code",
   "execution_count": 95,
   "id": "8afafd4c-58cc-4e70-a3ae-ce72e78a7f82",
   "metadata": {
    "tags": []
   },
   "outputs": [],
   "source": [
    "DATA_DIR = '/home/cc/students/csguests/chendudai/Thesis/data/'\n",
    "OUT_DIR = 'output'\n",
    "CKPT = '/home/cc/students/csguests/chendudai/Thesis/data/clipseg-ft_model/0_CLIPModel'\n",
    "CLIP_BASE = 'openai/clip-vit-base-patch32'"
   ]
  },
  {
   "cell_type": "code",
   "execution_count": 96,
   "id": "3c683941-088f-44c0-8efc-fd61f765ee08",
   "metadata": {
    "tags": []
   },
   "outputs": [
    {
     "name": "stdout",
     "output_type": "stream",
     "text": [
      "mkdir: cannot create directory ‘output’: File exists\r\n"
     ]
    }
   ],
   "source": [
    "! mkdir {OUT_DIR}"
   ]
  },
  {
   "cell_type": "code",
   "execution_count": 97,
   "id": "7ad2127b-e593-4fb0-aae0-b0e598ff61c3",
   "metadata": {
    "tags": []
   },
   "outputs": [
    {
     "name": "stdout",
     "output_type": "stream",
     "text": [
      "\u001B[0m\u001B[01;34m0148_megaDepth\u001B[0m/\r\n",
      "\u001B[34;42m0_1_undistorted\u001B[0m/\r\n",
      "\u001B[01;34m0209_megaDepth_mosque\u001B[0m/\r\n",
      "0209_mosque_geometric_occlusions.csv\r\n",
      "\u001B[01;34m0237_megaDepth_mosque\u001B[0m/\r\n",
      "\u001B[34;42m62_0_undistorted\u001B[0m/\r\n",
      "\u001B[34;42m98_0_undistorted\u001B[0m/\r\n",
      "\u001B[34;42m98_3_undistorted\u001B[0m/\r\n",
      "badshahi_geometric_occlusions.csv\r\n",
      "\u001B[01;34mbadshahi_mosque\u001B[0m/\r\n",
      "\u001B[01;34mclipseg_ft_crops_10epochs\u001B[0m/\r\n",
      "\u001B[01;34mclipseg-ft_model\u001B[0m/\r\n",
      "clip_sims_v0.3-notest24-nodups.csv\r\n",
      "ft_clip_sims_v0.3-ft_bsz128_5epochs-lr1e-06-val091-2430-notest24-nodups.csv\r\n",
      "\u001B[01;34mhurba\u001B[0m/\r\n",
      "\u001B[01;34mhurba_indoor\u001B[0m/\r\n",
      "\u001B[01;34mmanually_gt_masks_0_1\u001B[0m/\r\n",
      "\u001B[01;34mmanually_gt_masks_0209\u001B[0m/\r\n",
      "\u001B[01;34mmanually_gt_masks_badshahi\u001B[0m/\r\n",
      "\u001B[01;34mmanually_gt_masks_notre_dame\u001B[0m/\r\n",
      "\u001B[01;34mmanually_gt_masks_st_paul\u001B[0m/\r\n",
      "milano_base_clip.csv\r\n",
      "milano_enamble_clip.csv\r\n",
      "milano_geometric_clip.csv\r\n",
      "milano_geometric_occlusions.csv\r\n",
      "\u001B[01;34mmorris_npy\u001B[0m/\r\n",
      "notre_dame_base_clip.csv\r\n",
      "notre_dame_clip_finetuned.csv\r\n",
      "notre_dame_ensamble_clip.csv\r\n",
      "\u001B[01;34mnotre_dame_front_facade\u001B[0m/\r\n",
      "notre_dame_geometric_clip.csv\r\n",
      "notre_dame_geometric_occlusions.csv\r\n",
      "per_label_metrics_old_without_a_picture_of_a_cathedrals.json\r\n",
      "retrieval_clip_base_outdoor_070523.csv\r\n",
      "retrieval_clip_base_outdoor_070523_old.csv\r\n",
      "retrieval_clip_outdoor_020523-ft.csv\r\n",
      "retrieval_indoor_010523.csv\r\n",
      "\u001B[01;34msacre_coeur\u001B[0m/\r\n",
      "\u001B[01;34msagrada_familia\u001B[0m/\r\n",
      "\u001B[01;34mseville_indoor\u001B[0m/\r\n",
      "\u001B[01;34mseville_outdoor\u001B[0m/\r\n",
      "\u001B[01;34mst_paul\u001B[0m/\r\n",
      "st_paul_base_clip.csv\r\n",
      "st_paul_clip_finetuned.csv\r\n",
      "st_paul_ensamble_clip.csv\r\n",
      "st_paul_geometric_clip.csv\r\n",
      "st_paul_geometric_occlusions.csv\r\n",
      "test2.csv\r\n",
      "test3.csv\r\n",
      "test4.csv\r\n",
      "test.csv\r\n",
      "visual_prompts_top100_v3-clipseg-rd64.pk\r\n"
     ]
    }
   ],
   "source": [
    "ls {DATA_DIR}"
   ]
  },
  {
   "cell_type": "code",
   "execution_count": 98,
   "id": "719ef3cb-ad13-4d72-bdc0-91948e959483",
   "metadata": {
    "tags": []
   },
   "outputs": [],
   "source": [
    "NAMES = ['0_1_undistorted', 'st_paul', 'notre_dame_front_facade','0209_megaDepth_mosque', 'badshahi_mosque', 'seville_indoor', 'sacre_coeur', 'hurba', 'hurba_indoor', '0237_megaDepth_mosque', '62_0_undistorted']"
   ]
  },
  {
   "cell_type": "code",
   "execution_count": 99,
   "id": "f2ed7db9-be7e-47f3-932f-73c9284f490f",
   "metadata": {
    "tags": []
   },
   "outputs": [],
   "source": [
    "from glob import glob\n",
    "from transformers import CLIPProcessor, CLIPModel\n",
    "from PIL import Image\n",
    "from tqdm.auto import tqdm\n",
    "import torch\n",
    "import numpy as np\n",
    "import pandas as pd\n",
    "import os"
   ]
  },
  {
   "cell_type": "code",
   "execution_count": 100,
   "id": "115ede7b-6ac9-4a0f-a16f-dadf767b881d",
   "metadata": {
    "tags": []
   },
   "outputs": [
    {
     "data": {
      "text/plain": "['0_1_undistorted',\n 'st_paul',\n 'notre_dame_front_facade',\n '0209_megaDepth_mosque',\n 'badshahi_mosque',\n 'seville_indoor',\n 'sacre_coeur',\n 'hurba',\n 'hurba_indoor',\n '0237_megaDepth_mosque',\n '62_0_undistorted']"
     },
     "execution_count": 100,
     "metadata": {},
     "output_type": "execute_result"
    }
   ],
   "source": [
    "NAMES"
   ]
  },
  {
   "cell_type": "code",
   "execution_count": 101,
   "id": "058fffe6-0542-4627-a6d2-f0ae3ebbffcd",
   "metadata": {
    "tags": []
   },
   "outputs": [
    {
     "name": "stdout",
     "output_type": "stream",
     "text": [
      "CPU times: user 99.8 ms, sys: 324 µs, total: 100 ms\n",
      "Wall time: 3.28 s\n"
     ]
    }
   ],
   "source": [
    "%time proc = CLIPProcessor.from_pretrained(CLIP_BASE)"
   ]
  },
  {
   "cell_type": "code",
   "execution_count": 102,
   "id": "e86b86af-658f-4c2a-8cd1-67cb8bccd053",
   "metadata": {
    "tags": []
   },
   "outputs": [
    {
     "name": "stdout",
     "output_type": "stream",
     "text": [
      "CPU times: user 652 ms, sys: 230 ms, total: 882 ms\n",
      "Wall time: 676 ms\n"
     ]
    }
   ],
   "source": [
    "# %time clip = CLIPModel.from_pretrained(CLIP_BASE)\n",
    "%time clip = CLIPModel.from_pretrained(CKPT)\n"
   ]
  },
  {
   "cell_type": "code",
   "execution_count": 103,
   "id": "84ebbeee-c734-4454-89ae-ce0d5eb752ef",
   "metadata": {
    "tags": []
   },
   "outputs": [],
   "source": [
    "clip.to('cuda');\n",
    "clip.eval();"
   ]
  },
  {
   "cell_type": "code",
   "execution_count": 104,
   "id": "f3c0ba1c-3897-4105-835c-3fc63160aa78",
   "metadata": {
    "tags": []
   },
   "outputs": [
    {
     "data": {
      "text/plain": "12699"
     },
     "execution_count": 104,
     "metadata": {},
     "output_type": "execute_result"
    }
   ],
   "source": [
    "fns = [\n",
    "    fn\n",
    "    for name in NAMES\n",
    "    for fn in glob(f'{DATA_DIR}{name}/dense/images/*')\n",
    "]\n",
    "len(fns)"
   ]
  },
  {
   "cell_type": "code",
   "execution_count": 105,
   "outputs": [
    {
     "data": {
      "text/plain": "'/home/cc/students/csguests/chendudai/Thesis/data/0_1_undistorted/dense/images/0620.jpg'"
     },
     "execution_count": 105,
     "metadata": {},
     "output_type": "execute_result"
    }
   ],
   "source": [
    "fns[0]"
   ],
   "metadata": {
    "collapsed": false
   }
  },
  {
   "cell_type": "code",
   "execution_count": 106,
   "id": "1353177e-7540-47e7-9c2d-86be13420d4f",
   "metadata": {
    "tags": []
   },
   "outputs": [
    {
     "data": {
      "text/plain": "  0%|          | 0/12699 [00:00<?, ?it/s]",
      "application/vnd.jupyter.widget-view+json": {
       "version_major": 2,
       "version_minor": 0,
       "model_id": "ea3c2aa7fba340539b799162a39cc85a"
      }
     },
     "metadata": {},
     "output_type": "display_data"
    }
   ],
   "source": [
    "Ls = []\n",
    "for fn in tqdm(fns):\n",
    "    img = Image.open(fn).convert('RGB')\n",
    "    with torch.no_grad():\n",
    "        inp = proc(\n",
    "            text=prompts,\n",
    "            images=[img],\n",
    "            return_tensors=\"pt\",\n",
    "            padding=True\n",
    "        ).to('cuda')\n",
    "        out = clip(**inp)\n",
    "        L = out.logits_per_image / clip.logit_scale.exp()\n",
    "        Ls.append(L.cpu().numpy())"
   ]
  },
  {
   "cell_type": "code",
   "execution_count": 107,
   "id": "d8146c88-ce20-46d2-a9f3-6ae9fde25330",
   "metadata": {
    "tags": []
   },
   "outputs": [
    {
     "data": {
      "text/plain": "(64, 12699)"
     },
     "execution_count": 107,
     "metadata": {},
     "output_type": "execute_result"
    }
   ],
   "source": [
    "LL = np.vstack(Ls).T\n",
    "LL.shape"
   ]
  },
  {
   "cell_type": "code",
   "execution_count": 108,
   "outputs": [
    {
     "data": {
      "text/plain": "<function posixpath.basename(p)>"
     },
     "execution_count": 108,
     "metadata": {},
     "output_type": "execute_result"
    }
   ],
   "source": [
    "os.path.basename"
   ],
   "metadata": {
    "collapsed": false
   }
  },
  {
   "cell_type": "code",
   "execution_count": 109,
   "id": "35d64056-1a1c-454d-8025-402bfe2fd4b3",
   "metadata": {
    "tags": []
   },
   "outputs": [],
   "source": [
    "df = pd.DataFrame({'fn': fns})\n",
    "# df['fn'] = df.fn.str.extract('retrieval_occ/(.*)')[0]\n",
    "df['base_fn'] = df.fn.apply(os.path.basename)\n",
    "df['building'] = df.fn.str.extract('data/([^/]*)')[0]\n",
    "for prompt, scores in zip(prompts, LL):\n",
    "    df[prompt] = scores"
   ]
  },
  {
   "cell_type": "code",
   "execution_count": 110,
   "id": "fa60c789-aa8c-4875-a878-a056e5a979c7",
   "metadata": {
    "tags": []
   },
   "outputs": [
    {
     "data": {
      "text/plain": "                                                      fn   base_fn  \\\n0      /home/cc/students/csguests/chendudai/Thesis/da...  0620.jpg   \n1      /home/cc/students/csguests/chendudai/Thesis/da...  0656.jpg   \n2      /home/cc/students/csguests/chendudai/Thesis/da...  0049.jpg   \n3      /home/cc/students/csguests/chendudai/Thesis/da...  0360.jpg   \n4      /home/cc/students/csguests/chendudai/Thesis/da...  0725.jpg   \n...                                                  ...       ...   \n12694  /home/cc/students/csguests/chendudai/Thesis/da...  0548.JPG   \n12695  /home/cc/students/csguests/chendudai/Thesis/da...  0577.jpg   \n12696  /home/cc/students/csguests/chendudai/Thesis/da...  0260.JPG   \n12697  /home/cc/students/csguests/chendudai/Thesis/da...  0181.jpg   \n12698  /home/cc/students/csguests/chendudai/Thesis/da...  0372.jpg   \n\n               building     domes   windows   portals    spires    towers  \\\n0       0_1_undistorted -0.001470  0.128373  0.224818  0.148129  0.097729   \n1       0_1_undistorted -0.001105  0.127025  0.185777  0.139101  0.101438   \n2       0_1_undistorted  0.000953  0.128496  0.188316  0.192968  0.184378   \n3       0_1_undistorted -0.002212  0.120568  0.199293  0.138270  0.100842   \n4       0_1_undistorted  0.011130  0.200158  0.357533  0.018204  0.079582   \n...                 ...       ...       ...       ...       ...       ...   \n12694  62_0_undistorted  0.055474  0.114381  0.085013  0.053095  0.009701   \n12695  62_0_undistorted  0.076232  0.107067 -0.048672  0.099706 -0.005842   \n12696  62_0_undistorted  0.116968  0.122468 -0.058076  0.057019 -0.014917   \n12697  62_0_undistorted  0.022144  0.098872  0.040258  0.096567  0.017190   \n12698  62_0_undistorted  0.136530  0.124354 -0.044015  0.115275  0.038319   \n\n       minarets    portal  ...  stained glass windows  roundels    minbar  \\\n0     -0.051262  0.160036  ...              -0.034099  0.059388 -0.106820   \n1     -0.088349  0.141955  ...               0.017885  0.076648 -0.068660   \n2     -0.047847  0.124903  ...              -0.015071  0.046207 -0.113907   \n3     -0.088170  0.147581  ...              -0.003034  0.062533 -0.097032   \n4     -0.065446  0.310843  ...              -0.008696  0.103393 -0.046329   \n...         ...       ...  ...                    ...       ...       ...   \n12694 -0.076686  0.034576  ...               0.048067  0.187857  0.139322   \n12695 -0.028976 -0.042931  ...              -0.008162  0.111143  0.059856   \n12696 -0.069035 -0.050116  ...               0.022681  0.172063  0.020051   \n12697 -0.075669 -0.016625  ...               0.040365  0.114747  0.089320   \n12698 -0.024127 -0.050075  ...               0.010463  0.205311  0.078821   \n\n       chandelier     Spire    Atrium      Apse  Chevette    Pulpit      Dome  \n0        0.030796  0.052044  0.044765  0.135725  0.035667  0.027424  0.015063  \n1        0.078066  0.050621  0.055633  0.214401  0.007192  0.058885  0.032301  \n2        0.059196  0.116344  0.083674  0.168105  0.034574  0.006138  0.000220  \n3        0.062001  0.044839  0.069115  0.218438  0.033057  0.024417  0.018563  \n4        0.029407  0.012628  0.129936  0.201288  0.110233  0.136749  0.008309  \n...           ...       ...       ...       ...       ...       ...       ...  \n12694    0.233290  0.028205  0.139004  0.199262  0.097602  0.184037  0.203463  \n12695    0.284168  0.058702  0.157498  0.091916  0.088041  0.064632  0.251430  \n12696    0.260332  0.044124  0.145379  0.142712  0.073722  0.034729  0.320640  \n12697    0.128419  0.002468  0.078876  0.136906  0.129654  0.117321  0.125261  \n12698    0.318992  0.111159  0.158217  0.202823  0.116842  0.123518  0.342913  \n\n[12699 rows x 67 columns]",
      "text/html": "<div>\n<style scoped>\n    .dataframe tbody tr th:only-of-type {\n        vertical-align: middle;\n    }\n\n    .dataframe tbody tr th {\n        vertical-align: top;\n    }\n\n    .dataframe thead th {\n        text-align: right;\n    }\n</style>\n<table border=\"1\" class=\"dataframe\">\n  <thead>\n    <tr style=\"text-align: right;\">\n      <th></th>\n      <th>fn</th>\n      <th>base_fn</th>\n      <th>building</th>\n      <th>domes</th>\n      <th>windows</th>\n      <th>portals</th>\n      <th>spires</th>\n      <th>towers</th>\n      <th>minarets</th>\n      <th>portal</th>\n      <th>...</th>\n      <th>stained glass windows</th>\n      <th>roundels</th>\n      <th>minbar</th>\n      <th>chandelier</th>\n      <th>Spire</th>\n      <th>Atrium</th>\n      <th>Apse</th>\n      <th>Chevette</th>\n      <th>Pulpit</th>\n      <th>Dome</th>\n    </tr>\n  </thead>\n  <tbody>\n    <tr>\n      <th>0</th>\n      <td>/home/cc/students/csguests/chendudai/Thesis/da...</td>\n      <td>0620.jpg</td>\n      <td>0_1_undistorted</td>\n      <td>-0.001470</td>\n      <td>0.128373</td>\n      <td>0.224818</td>\n      <td>0.148129</td>\n      <td>0.097729</td>\n      <td>-0.051262</td>\n      <td>0.160036</td>\n      <td>...</td>\n      <td>-0.034099</td>\n      <td>0.059388</td>\n      <td>-0.106820</td>\n      <td>0.030796</td>\n      <td>0.052044</td>\n      <td>0.044765</td>\n      <td>0.135725</td>\n      <td>0.035667</td>\n      <td>0.027424</td>\n      <td>0.015063</td>\n    </tr>\n    <tr>\n      <th>1</th>\n      <td>/home/cc/students/csguests/chendudai/Thesis/da...</td>\n      <td>0656.jpg</td>\n      <td>0_1_undistorted</td>\n      <td>-0.001105</td>\n      <td>0.127025</td>\n      <td>0.185777</td>\n      <td>0.139101</td>\n      <td>0.101438</td>\n      <td>-0.088349</td>\n      <td>0.141955</td>\n      <td>...</td>\n      <td>0.017885</td>\n      <td>0.076648</td>\n      <td>-0.068660</td>\n      <td>0.078066</td>\n      <td>0.050621</td>\n      <td>0.055633</td>\n      <td>0.214401</td>\n      <td>0.007192</td>\n      <td>0.058885</td>\n      <td>0.032301</td>\n    </tr>\n    <tr>\n      <th>2</th>\n      <td>/home/cc/students/csguests/chendudai/Thesis/da...</td>\n      <td>0049.jpg</td>\n      <td>0_1_undistorted</td>\n      <td>0.000953</td>\n      <td>0.128496</td>\n      <td>0.188316</td>\n      <td>0.192968</td>\n      <td>0.184378</td>\n      <td>-0.047847</td>\n      <td>0.124903</td>\n      <td>...</td>\n      <td>-0.015071</td>\n      <td>0.046207</td>\n      <td>-0.113907</td>\n      <td>0.059196</td>\n      <td>0.116344</td>\n      <td>0.083674</td>\n      <td>0.168105</td>\n      <td>0.034574</td>\n      <td>0.006138</td>\n      <td>0.000220</td>\n    </tr>\n    <tr>\n      <th>3</th>\n      <td>/home/cc/students/csguests/chendudai/Thesis/da...</td>\n      <td>0360.jpg</td>\n      <td>0_1_undistorted</td>\n      <td>-0.002212</td>\n      <td>0.120568</td>\n      <td>0.199293</td>\n      <td>0.138270</td>\n      <td>0.100842</td>\n      <td>-0.088170</td>\n      <td>0.147581</td>\n      <td>...</td>\n      <td>-0.003034</td>\n      <td>0.062533</td>\n      <td>-0.097032</td>\n      <td>0.062001</td>\n      <td>0.044839</td>\n      <td>0.069115</td>\n      <td>0.218438</td>\n      <td>0.033057</td>\n      <td>0.024417</td>\n      <td>0.018563</td>\n    </tr>\n    <tr>\n      <th>4</th>\n      <td>/home/cc/students/csguests/chendudai/Thesis/da...</td>\n      <td>0725.jpg</td>\n      <td>0_1_undistorted</td>\n      <td>0.011130</td>\n      <td>0.200158</td>\n      <td>0.357533</td>\n      <td>0.018204</td>\n      <td>0.079582</td>\n      <td>-0.065446</td>\n      <td>0.310843</td>\n      <td>...</td>\n      <td>-0.008696</td>\n      <td>0.103393</td>\n      <td>-0.046329</td>\n      <td>0.029407</td>\n      <td>0.012628</td>\n      <td>0.129936</td>\n      <td>0.201288</td>\n      <td>0.110233</td>\n      <td>0.136749</td>\n      <td>0.008309</td>\n    </tr>\n    <tr>\n      <th>...</th>\n      <td>...</td>\n      <td>...</td>\n      <td>...</td>\n      <td>...</td>\n      <td>...</td>\n      <td>...</td>\n      <td>...</td>\n      <td>...</td>\n      <td>...</td>\n      <td>...</td>\n      <td>...</td>\n      <td>...</td>\n      <td>...</td>\n      <td>...</td>\n      <td>...</td>\n      <td>...</td>\n      <td>...</td>\n      <td>...</td>\n      <td>...</td>\n      <td>...</td>\n      <td>...</td>\n    </tr>\n    <tr>\n      <th>12694</th>\n      <td>/home/cc/students/csguests/chendudai/Thesis/da...</td>\n      <td>0548.JPG</td>\n      <td>62_0_undistorted</td>\n      <td>0.055474</td>\n      <td>0.114381</td>\n      <td>0.085013</td>\n      <td>0.053095</td>\n      <td>0.009701</td>\n      <td>-0.076686</td>\n      <td>0.034576</td>\n      <td>...</td>\n      <td>0.048067</td>\n      <td>0.187857</td>\n      <td>0.139322</td>\n      <td>0.233290</td>\n      <td>0.028205</td>\n      <td>0.139004</td>\n      <td>0.199262</td>\n      <td>0.097602</td>\n      <td>0.184037</td>\n      <td>0.203463</td>\n    </tr>\n    <tr>\n      <th>12695</th>\n      <td>/home/cc/students/csguests/chendudai/Thesis/da...</td>\n      <td>0577.jpg</td>\n      <td>62_0_undistorted</td>\n      <td>0.076232</td>\n      <td>0.107067</td>\n      <td>-0.048672</td>\n      <td>0.099706</td>\n      <td>-0.005842</td>\n      <td>-0.028976</td>\n      <td>-0.042931</td>\n      <td>...</td>\n      <td>-0.008162</td>\n      <td>0.111143</td>\n      <td>0.059856</td>\n      <td>0.284168</td>\n      <td>0.058702</td>\n      <td>0.157498</td>\n      <td>0.091916</td>\n      <td>0.088041</td>\n      <td>0.064632</td>\n      <td>0.251430</td>\n    </tr>\n    <tr>\n      <th>12696</th>\n      <td>/home/cc/students/csguests/chendudai/Thesis/da...</td>\n      <td>0260.JPG</td>\n      <td>62_0_undistorted</td>\n      <td>0.116968</td>\n      <td>0.122468</td>\n      <td>-0.058076</td>\n      <td>0.057019</td>\n      <td>-0.014917</td>\n      <td>-0.069035</td>\n      <td>-0.050116</td>\n      <td>...</td>\n      <td>0.022681</td>\n      <td>0.172063</td>\n      <td>0.020051</td>\n      <td>0.260332</td>\n      <td>0.044124</td>\n      <td>0.145379</td>\n      <td>0.142712</td>\n      <td>0.073722</td>\n      <td>0.034729</td>\n      <td>0.320640</td>\n    </tr>\n    <tr>\n      <th>12697</th>\n      <td>/home/cc/students/csguests/chendudai/Thesis/da...</td>\n      <td>0181.jpg</td>\n      <td>62_0_undistorted</td>\n      <td>0.022144</td>\n      <td>0.098872</td>\n      <td>0.040258</td>\n      <td>0.096567</td>\n      <td>0.017190</td>\n      <td>-0.075669</td>\n      <td>-0.016625</td>\n      <td>...</td>\n      <td>0.040365</td>\n      <td>0.114747</td>\n      <td>0.089320</td>\n      <td>0.128419</td>\n      <td>0.002468</td>\n      <td>0.078876</td>\n      <td>0.136906</td>\n      <td>0.129654</td>\n      <td>0.117321</td>\n      <td>0.125261</td>\n    </tr>\n    <tr>\n      <th>12698</th>\n      <td>/home/cc/students/csguests/chendudai/Thesis/da...</td>\n      <td>0372.jpg</td>\n      <td>62_0_undistorted</td>\n      <td>0.136530</td>\n      <td>0.124354</td>\n      <td>-0.044015</td>\n      <td>0.115275</td>\n      <td>0.038319</td>\n      <td>-0.024127</td>\n      <td>-0.050075</td>\n      <td>...</td>\n      <td>0.010463</td>\n      <td>0.205311</td>\n      <td>0.078821</td>\n      <td>0.318992</td>\n      <td>0.111159</td>\n      <td>0.158217</td>\n      <td>0.202823</td>\n      <td>0.116842</td>\n      <td>0.123518</td>\n      <td>0.342913</td>\n    </tr>\n  </tbody>\n</table>\n<p>12699 rows × 67 columns</p>\n</div>"
     },
     "execution_count": 110,
     "metadata": {},
     "output_type": "execute_result"
    }
   ],
   "source": [
    "df"
   ]
  },
  {
   "cell_type": "code",
   "execution_count": 111,
   "id": "6a78d9a0-3c03-4103-87f8-aaa1f7c57a80",
   "metadata": {
    "tags": []
   },
   "outputs": [],
   "source": [
    "# df.to_csv(f'{OUT_DIR}/retrieval_clip_BASE_all_140523.csv', index=False)\n",
    "df.to_csv(f'{OUT_DIR}/retrieval_clip_ft_all_140523.csv', index=False)\n"
   ]
  },
  {
   "cell_type": "code",
   "execution_count": 111,
   "outputs": [],
   "source": [],
   "metadata": {
    "collapsed": false
   }
  }
 ],
 "metadata": {
  "kernelspec": {
   "display_name": "Python 3 (ipykernel)",
   "language": "python",
   "name": "python3"
  },
  "language_info": {
   "codemirror_mode": {
    "name": "ipython",
    "version": 3
   },
   "file_extension": ".py",
   "mimetype": "text/x-python",
   "name": "python",
   "nbconvert_exporter": "python",
   "pygments_lexer": "ipython3",
   "version": "3.9.16"
  }
 },
 "nbformat": 4,
 "nbformat_minor": 5
}
